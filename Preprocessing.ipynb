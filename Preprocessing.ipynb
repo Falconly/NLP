{
 "cells": [
  {
   "cell_type": "code",
   "execution_count": 1,
   "id": "9f205e9e-81ed-4373-ba21-0cf3e8555c1c",
   "metadata": {},
   "outputs": [],
   "source": [
    "import nltk"
   ]
  },
  {
   "cell_type": "code",
   "execution_count": 2,
   "id": "1d1a50eb-ab3d-4bc5-b97d-0076adeeba80",
   "metadata": {},
   "outputs": [],
   "source": [
    "corpus = [    \"I can't wait for the new season of my favorite show!\",\n",
    "    \"The COVID-19 pandemic has affected millions of people worldwide.\",\n",
    "    \"U.S. stocks fell on Friday after news of rising inflation.\",\n",
    "    \"<html><body>Welcome to the website!</body></html>\",\n",
    "    \"Python is a great programming language!!! 😃😃\"]"
   ]
  },
  {
   "cell_type": "markdown",
   "id": "50b287b6-b7e8-49f5-a296-d5c658cec63f",
   "metadata": {},
   "source": [
    "## Text cleaning"
   ]
  },
  {
   "cell_type": "code",
   "execution_count": 3,
   "id": "c6a17290-f327-4884-8cee-bc863a7b248a",
   "metadata": {},
   "outputs": [],
   "source": [
    "import re\n",
    "import string\n",
    "from bs4 import BeautifulSoup\n",
    "from nltk.tokenize import sent_tokenize, word_tokenize"
   ]
  },
  {
   "cell_type": "code",
   "execution_count": 4,
   "id": "77786a11-7936-476f-a513-0055444247e6",
   "metadata": {},
   "outputs": [],
   "source": [
    "def clean_text(text):\n",
    "    text = BeautifulSoup(text, 'html.parser').get_text()\n",
    "    text = text.lower()\n",
    "    text = re.sub(r'\\d+', '', text) # remove numbers\n",
    "    text = text.translate(str.maketrans('', '', string.punctuation)) # remove punctuation\n",
    "    text = re.sub(r'\\W', ' ', text)\n",
    "    return text"
   ]
  },
  {
   "cell_type": "code",
   "execution_count": 5,
   "id": "ed91ff69-b7e5-4603-9f5a-17525356a9fa",
   "metadata": {},
   "outputs": [],
   "source": [
    "cleaned_corpus = [clean_text(doc) for doc in corpus]"
   ]
  },
  {
   "cell_type": "code",
   "execution_count": 6,
   "id": "82af529b-42dd-49fc-8a55-467d62811ced",
   "metadata": {},
   "outputs": [
    {
     "data": {
      "text/plain": [
       "['i cant wait for the new season of my favorite show',\n",
       " 'the covid pandemic has affected millions of people worldwide',\n",
       " 'us stocks fell on friday after news of rising inflation',\n",
       " 'welcome to the website',\n",
       " 'python is a great programming language   ']"
      ]
     },
     "execution_count": 6,
     "metadata": {},
     "output_type": "execute_result"
    }
   ],
   "source": [
    "cleaned_corpus"
   ]
  },
  {
   "cell_type": "markdown",
   "id": "b8c108d9-2a76-4f7e-8c46-8284bbc88953",
   "metadata": {},
   "source": [
    "## Tokenization "
   ]
  },
  {
   "cell_type": "code",
   "execution_count": 7,
   "id": "ae8abf99-8316-437c-9f0f-ba3d831d4112",
   "metadata": {},
   "outputs": [
    {
     "name": "stderr",
     "output_type": "stream",
     "text": [
      "[nltk_data] Downloading package punkt to /home/falcon/nltk_data...\n",
      "[nltk_data]   Package punkt is already up-to-date!\n"
     ]
    },
    {
     "data": {
      "text/plain": [
       "True"
      ]
     },
     "execution_count": 7,
     "metadata": {},
     "output_type": "execute_result"
    }
   ],
   "source": [
    "nltk.download('punkt')"
   ]
  },
  {
   "cell_type": "code",
   "execution_count": 8,
   "id": "1d8cb585-3a80-474e-92eb-1cc9aaf49ab2",
   "metadata": {},
   "outputs": [],
   "source": [
    "tokenization_corpus = [word_tokenize(doc) for doc in cleaned_corpus]"
   ]
  },
  {
   "cell_type": "code",
   "execution_count": 9,
   "id": "5705be7a-2684-43ea-905f-fdbb9782642f",
   "metadata": {},
   "outputs": [
    {
     "data": {
      "text/plain": [
       "[['i',\n",
       "  'cant',\n",
       "  'wait',\n",
       "  'for',\n",
       "  'the',\n",
       "  'new',\n",
       "  'season',\n",
       "  'of',\n",
       "  'my',\n",
       "  'favorite',\n",
       "  'show'],\n",
       " ['the',\n",
       "  'covid',\n",
       "  'pandemic',\n",
       "  'has',\n",
       "  'affected',\n",
       "  'millions',\n",
       "  'of',\n",
       "  'people',\n",
       "  'worldwide'],\n",
       " ['us',\n",
       "  'stocks',\n",
       "  'fell',\n",
       "  'on',\n",
       "  'friday',\n",
       "  'after',\n",
       "  'news',\n",
       "  'of',\n",
       "  'rising',\n",
       "  'inflation'],\n",
       " ['welcome', 'to', 'the', 'website'],\n",
       " ['python', 'is', 'a', 'great', 'programming', 'language']]"
      ]
     },
     "execution_count": 9,
     "metadata": {},
     "output_type": "execute_result"
    }
   ],
   "source": [
    "tokenization_corpus"
   ]
  },
  {
   "cell_type": "markdown",
   "id": "322fdf0b-018c-4673-99cf-f7a0d4edefca",
   "metadata": {},
   "source": [
    "## Stop Words Removal"
   ]
  },
  {
   "cell_type": "code",
   "execution_count": 10,
   "id": "fd398dd9-c628-48b0-91f4-7759a3bb0232",
   "metadata": {},
   "outputs": [],
   "source": [
    "from nltk.corpus import stopwords"
   ]
  },
  {
   "cell_type": "code",
   "execution_count": 11,
   "id": "f3e56cbd-ef46-468b-8374-170cbeda4baf",
   "metadata": {},
   "outputs": [
    {
     "name": "stderr",
     "output_type": "stream",
     "text": [
      "[nltk_data] Downloading package stopwords to /home/falcon/nltk_data...\n",
      "[nltk_data]   Package stopwords is already up-to-date!\n"
     ]
    },
    {
     "data": {
      "text/plain": [
       "True"
      ]
     },
     "execution_count": 11,
     "metadata": {},
     "output_type": "execute_result"
    }
   ],
   "source": [
    "nltk.download('stopwords')"
   ]
  },
  {
   "cell_type": "code",
   "execution_count": 12,
   "id": "4aee6e33-2b7f-4852-9683-64dd60ff5fa6",
   "metadata": {},
   "outputs": [],
   "source": [
    "stop_words = set(stopwords.words('english'))"
   ]
  },
  {
   "cell_type": "code",
   "execution_count": 13,
   "id": "94b29930-6093-423b-a682-7ad56e482638",
   "metadata": {},
   "outputs": [],
   "source": [
    "filtered_corpus = [[token for token in block if token not in stop_words] for block in tokenization_corpus]"
   ]
  },
  {
   "cell_type": "code",
   "execution_count": 14,
   "id": "2eda229b-f977-4d2e-8605-aada0ec55c6e",
   "metadata": {},
   "outputs": [
    {
     "data": {
      "text/plain": [
       "[['cant', 'wait', 'new', 'season', 'favorite', 'show'],\n",
       " ['covid', 'pandemic', 'affected', 'millions', 'people', 'worldwide'],\n",
       " ['us', 'stocks', 'fell', 'friday', 'news', 'rising', 'inflation'],\n",
       " ['welcome', 'website'],\n",
       " ['python', 'great', 'programming', 'language']]"
      ]
     },
     "execution_count": 14,
     "metadata": {},
     "output_type": "execute_result"
    }
   ],
   "source": [
    "filtered_corpus"
   ]
  },
  {
   "cell_type": "markdown",
   "id": "67785efb-8fb2-4b42-8d42-4389dd26412b",
   "metadata": {},
   "source": [
    "## Lemmatization"
   ]
  },
  {
   "cell_type": "code",
   "execution_count": 15,
   "id": "ed4bd0cb-0d02-46b7-b197-981e85ce8838",
   "metadata": {},
   "outputs": [],
   "source": [
    "from nltk.stem import WordNetLemmatizer"
   ]
  },
  {
   "cell_type": "code",
   "execution_count": 16,
   "id": "85128423-36f7-4cc8-8607-dac1515fb6ef",
   "metadata": {},
   "outputs": [
    {
     "name": "stderr",
     "output_type": "stream",
     "text": [
      "[nltk_data] Downloading package wordnet to /home/falcon/nltk_data...\n",
      "[nltk_data]   Package wordnet is already up-to-date!\n"
     ]
    },
    {
     "data": {
      "text/plain": [
       "True"
      ]
     },
     "execution_count": 16,
     "metadata": {},
     "output_type": "execute_result"
    }
   ],
   "source": [
    "nltk.download('wordnet')"
   ]
  },
  {
   "cell_type": "code",
   "execution_count": 17,
   "id": "72dddddd-81cd-471f-a56f-948b13c5b12c",
   "metadata": {},
   "outputs": [],
   "source": [
    "lemmatizer = WordNetLemmatizer()"
   ]
  },
  {
   "cell_type": "code",
   "execution_count": 18,
   "id": "0f755e04-5cf6-4b5d-b476-50654a16a181",
   "metadata": {},
   "outputs": [],
   "source": [
    "lemmatized_corpus = [[lemmatizer.lemmatize(word) for word in doc ] for doc in filtered_corpus]"
   ]
  },
  {
   "cell_type": "code",
   "execution_count": 19,
   "id": "2430dfe0-fa6b-4c4e-99ed-f73abea5e44e",
   "metadata": {},
   "outputs": [
    {
     "data": {
      "text/plain": [
       "[['cant', 'wait', 'new', 'season', 'favorite', 'show'],\n",
       " ['covid', 'pandemic', 'affected', 'million', 'people', 'worldwide'],\n",
       " ['u', 'stock', 'fell', 'friday', 'news', 'rising', 'inflation'],\n",
       " ['welcome', 'website'],\n",
       " ['python', 'great', 'programming', 'language']]"
      ]
     },
     "execution_count": 19,
     "metadata": {},
     "output_type": "execute_result"
    }
   ],
   "source": [
    "lemmatized_corpus"
   ]
  },
  {
   "cell_type": "markdown",
   "id": "308e25e7-7f62-40e2-a7c8-b494d73b023a",
   "metadata": {},
   "source": [
    "## Stemming"
   ]
  },
  {
   "cell_type": "code",
   "execution_count": 20,
   "id": "e69276ab-9107-4608-97a6-7a74f41ee42d",
   "metadata": {},
   "outputs": [],
   "source": [
    "from nltk.stem import PorterStemmer"
   ]
  },
  {
   "cell_type": "code",
   "execution_count": 21,
   "id": "17a54f1e-930c-4f7a-8458-343c9e25378a",
   "metadata": {},
   "outputs": [],
   "source": [
    "stemmer = PorterStemmer()"
   ]
  },
  {
   "cell_type": "code",
   "execution_count": 22,
   "id": "f3ebd359-b395-4f3c-b3a2-3c6b65b0c23a",
   "metadata": {},
   "outputs": [],
   "source": [
    "stemmer_corpus = [[stemmer.stem(word) for word in doc] for doc in lemmatized_corpus]"
   ]
  },
  {
   "cell_type": "code",
   "execution_count": 23,
   "id": "04699175-1d9d-4c09-aa2d-7d986c07e4a8",
   "metadata": {},
   "outputs": [
    {
     "data": {
      "text/plain": [
       "[['cant', 'wait', 'new', 'season', 'favorit', 'show'],\n",
       " ['covid', 'pandem', 'affect', 'million', 'peopl', 'worldwid'],\n",
       " ['u', 'stock', 'fell', 'friday', 'news', 'rise', 'inflat'],\n",
       " ['welcom', 'websit'],\n",
       " ['python', 'great', 'program', 'languag']]"
      ]
     },
     "execution_count": 23,
     "metadata": {},
     "output_type": "execute_result"
    }
   ],
   "source": [
    "stemmer_corpus"
   ]
  }
 ],
 "metadata": {
  "kernelspec": {
   "display_name": "Python 3 (ipykernel)",
   "language": "python",
   "name": "python3"
  },
  "language_info": {
   "codemirror_mode": {
    "name": "ipython",
    "version": 3
   },
   "file_extension": ".py",
   "mimetype": "text/x-python",
   "name": "python",
   "nbconvert_exporter": "python",
   "pygments_lexer": "ipython3",
   "version": "3.11.9"
  }
 },
 "nbformat": 4,
 "nbformat_minor": 5
}
